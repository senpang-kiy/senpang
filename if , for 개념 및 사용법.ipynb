{
 "cells": [
  {
   "cell_type": "markdown",
   "metadata": {},
   "source": [
    "# if 문 개념 배우기\n",
    "\n",
    "- 어떤 조건을 참과 거짓으로 판단할 때 if문을 사용합니다\n",
    "- 참과 거짓을 구분하여 코드를 실행하려면 if ~else를 사용합니다\n",
    "- 코드를 작성하다보면 조건에 따라 수행 하는 일을 달리 해야하는 경우가 있습니다\n",
    "- 조건이 참인지 거짓인지 검사를 하고, 참인 경우에는 이 일을 하고 거짓인 경우 에는 저 일을 하라는 식으로 처리를 할 수 있다!\n",
    "\n",
    "if 조건: \n",
    "    실행코드1\n",
    "else:\n",
    "    실행코드2\n",
    "    \n",
    "예제                                          \n",
    "a = int (input('숫자를 입력하세요~'))    input 함수는 괄호 안의 내용을 출력해준다\n",
    "\n",
    "if a%2 == 0:                  % : a를 2로 나눈 나머지값   이 == 0 일때\n",
    "    print('짝수 입니다')\n",
    "else:\n",
    "    print('홀수 입니다')!\n"
   ]
  },
  {
   "cell_type": "code",
   "execution_count": 3,
   "metadata": {},
   "outputs": [
    {
     "name": "stdout",
     "output_type": "stream",
     "text": [
      "숫자를 입력하세요 7\n",
      "홀수 입니다\n"
     ]
    }
   ],
   "source": [
    "a = int(input('숫자를 입력하세요'))\n",
    "\n",
    "if a%2 == 0:\n",
    "    print('짝수입니다')\n",
    "else:\n",
    "    print('홀수 입니다')"
   ]
  },
  {
   "cell_type": "markdown",
   "metadata": {},
   "source": [
    "## 숫자 2개를 입력하세 아래와 같은 결과가 나오게 하시오\n",
    "\n",
    "첫번째 숫자를 입력하세요~ 1                                      10\n",
    "두번째 숫자를 입력하세요~ 10                                     1\n",
    "\n",
    "                        1은 10보다 작습니다                10은 1보다 큽니다"
   ]
  },
  {
   "cell_type": "code",
   "execution_count": 4,
   "metadata": {
    "scrolled": true
   },
   "outputs": [
    {
     "name": "stdout",
     "output_type": "stream",
     "text": [
      "첫번째 숫자를 입력하세요1\n",
      "두번째 숫자를 입력하세요10\n",
      "1 는 10 보다 작습니다\n"
     ]
    }
   ],
   "source": [
    "a = int(input('첫번째 숫자를 입력하세요'))\n",
    "b = int(input('두번째 숫자를 입력하세요'))\n",
    "\n",
    "if a > b:\n",
    "    print(a,'은',b,'보다 큽니다')\n",
    "else:\n",
    "    print(a,'는', b, '보다 작습니다')"
   ]
  },
  {
   "cell_type": "markdown",
   "metadata": {},
   "source": [
    "\n",
    "\n",
    "\n",
    "\n",
    "\n",
    "# if 문 개념 배우기 (if ~elif)\n",
    "\n",
    "여러개의 조건을 순차적으로 체크하고 해당조건이 참이면 특정로직을 수행하고자 할때 \n",
    "if ~elif문을 사용합니다.\n",
    "\n",
    "예제 \n",
    "\n",
    "if 조건1:\n",
    "    실행코드1\n",
    "elif 조건2:\n",
    "    실행코드2\n",
    "else:\n",
    "    실행코드3\n",
    "\n",
    "- 문제\n",
    "elif를 사용해서 두개의 숫자가 같을때 작을때 클때 비교할수 있게 코드를 작성하시오"
   ]
  },
  {
   "cell_type": "code",
   "execution_count": 8,
   "metadata": {
    "scrolled": true
   },
   "outputs": [
    {
     "name": "stdout",
     "output_type": "stream",
     "text": [
      "숫자를 입력하세요7\n",
      "숫자를 입력하세요7\n",
      "7 는 7 와 같습니다\n"
     ]
    }
   ],
   "source": [
    "a = int(input('숫자를 입력하세요'))\n",
    "b = int(input('숫자를 입력하세요'))\n",
    "\n",
    "if a > b:\n",
    "    print(a,'은',b,'보다 큽니다')\n",
    "elif a < b:\n",
    "    print(a,'는', b, '보다 작습니다')\n",
    "else:\n",
    "    print(a,'는', b,'와 같습니다')"
   ]
  },
  {
   "cell_type": "markdown",
   "metadata": {},
   "source": [
    "# for문 개념 배우기 (for)\n",
    "\n",
    "특정 코드를 반복적으로 수행하기 위해서는 반복문을 사용해야 하는데\n",
    "파이썬에서는 for문이 반복문을 수행하기 위해 가장 많이 사용하는 문법입니다\n",
    "\n",
    "예제)\n",
    "\n",
    "for 변수 in 범위:                           \n",
    "    반복적으로 실행할 코드\n",
    "    \n",
    "범위에 적용할 수 있는 형식 \n",
    "\n",
    "1. 리스트\n",
    "2. 튜블\n",
    "3. ramge()\n",
    "4. 사전\n",
    "5. 문자열                         \n",
    "    "
   ]
  },
  {
   "cell_type": "code",
   "execution_count": 11,
   "metadata": {},
   "outputs": [
    {
     "name": "stdout",
     "output_type": "stream",
     "text": [
      "1\n",
      "2\n",
      "3\n"
     ]
    }
   ],
   "source": [
    "## 1. 리스트 인 경우\n",
    "\n",
    "for i in [1,2,3]:\n",
    "    print(i)\n"
   ]
  },
  {
   "cell_type": "code",
   "execution_count": 12,
   "metadata": {},
   "outputs": [
    {
     "name": "stdout",
     "output_type": "stream",
     "text": [
      "1\n",
      "2\n",
      "3\n"
     ]
    }
   ],
   "source": [
    "# 2. 튜블인 경우\n",
    "\n",
    "for i in (1,2,3):\n",
    "    print(i)"
   ]
  },
  {
   "cell_type": "code",
   "execution_count": 14,
   "metadata": {},
   "outputs": [
    {
     "name": "stdout",
     "output_type": "stream",
     "text": [
      "0\n",
      "1\n",
      "2\n",
      "3\n",
      "4\n",
      "5\n",
      "6\n",
      "7\n",
      "8\n",
      "9\n"
     ]
    }
   ],
   "source": [
    "# 3. ramge() 인경우\n",
    "\n",
    "for i in range(10):\n",
    "    print(i)"
   ]
  },
  {
   "cell_type": "code",
   "execution_count": 15,
   "metadata": {},
   "outputs": [
    {
     "name": "stdout",
     "output_type": "stream",
     "text": [
      "1\n",
      "3\n",
      "5\n",
      "7\n",
      "9\n"
     ]
    }
   ],
   "source": [
    "# 4. ramge() 사용법\n",
    "\n",
    "for i in range(1,10,2): # (어떤숫자 부터 , 몇번째 자리까지 , 몇칸씩)\n",
    "    print(i)"
   ]
  },
  {
   "cell_type": "markdown",
   "metadata": {},
   "source": [
    "## 콜론 ( : ) 사용하는 경우\n",
    "\t 1. if 문\n",
    "\t 2. 함수이름\n",
    "\t 3. loop문\n",
    "\n",
    "## 범위가 사전형인 경우\n",
    "\t\n",
    "\tdic = {  }  # 비어있는 딕셔너리형을 dic라는 이름으로 생성\n",
    "\tdic['나는'] = ('I',0)\n",
    "\tdic['소년'] = ('boy',0)\n",
    "\tdic['이다'] = ('am',0)\n",
    "\tdic['피자'] = ('pizza',0)\n",
    "\tdic['먹는다'] = ('eat',0)\n",
    "\t     키            값\n"
   ]
  },
  {
   "cell_type": "code",
   "execution_count": 19,
   "metadata": {},
   "outputs": [
    {
     "name": "stdout",
     "output_type": "stream",
     "text": [
      "{'나는': ('I', 0), '소년': ('boy', 0), '이다': ('am', 0), '피자': ('pizza', 0), '먹는다': ('eat', 0)}\n"
     ]
    }
   ],
   "source": [
    "dic = {  }  # 비어있는 딕셔너리형을 dic라는 이름으로 생성\n",
    "dic['나는'] = ('I',0)\n",
    "dic['소년'] = ('boy',0)\n",
    "dic['이다'] = ('am',0)\n",
    "dic['피자'] = ('pizza',0)\n",
    "dic['먹는다'] = ('eat',0)           \n",
    "print(dic)"
   ]
  },
  {
   "cell_type": "markdown",
   "metadata": {},
   "source": [
    "위와 같이 사전을 만들어 놓은 후"
   ]
  },
  {
   "cell_type": "code",
   "execution_count": 20,
   "metadata": {},
   "outputs": [
    {
     "name": "stdout",
     "output_type": "stream",
     "text": [
      "나는\n",
      "소년\n",
      "이다\n",
      "피자\n",
      "먹는다\n"
     ]
    }
   ],
   "source": [
    "for i in dic:\n",
    "    print(i)"
   ]
  },
  {
   "cell_type": "code",
   "execution_count": 21,
   "metadata": {},
   "outputs": [
    {
     "name": "stdout",
     "output_type": "stream",
     "text": [
      "('I', 0)\n",
      "('boy', 0)\n",
      "('am', 0)\n",
      "('pizza', 0)\n",
      "('eat', 0)\n"
     ]
    }
   ],
   "source": [
    "for i in dic.values():\n",
    "    print(i)"
   ]
  },
  {
   "cell_type": "code",
   "execution_count": 22,
   "metadata": {},
   "outputs": [
    {
     "name": "stdout",
     "output_type": "stream",
     "text": [
      "I\n",
      "boy\n",
      "am\n",
      "pizza\n",
      "eat\n"
     ]
    }
   ],
   "source": [
    "for i in dic.values():\n",
    "    print(i[0])"
   ]
  },
  {
   "cell_type": "code",
   "execution_count": 23,
   "metadata": {},
   "outputs": [
    {
     "name": "stdout",
     "output_type": "stream",
     "text": [
      "0\n",
      "0\n",
      "0\n",
      "0\n",
      "0\n"
     ]
    }
   ],
   "source": [
    "for i in dic.values():\n",
    "    print(i[1])"
   ]
  },
  {
   "cell_type": "markdown",
   "metadata": {},
   "source": [
    "이렇게 활용할수 잇다\n",
    "\n",
    "\n",
    "\n",
    "\n",
    "\n"
   ]
  },
  {
   "cell_type": "code",
   "execution_count": 24,
   "metadata": {},
   "outputs": [
    {
     "name": "stdout",
     "output_type": "stream",
     "text": [
      "i\n",
      " \n",
      "a\n",
      "m\n",
      " \n",
      "a\n",
      " \n",
      "b\n",
      "o\n",
      "y\n"
     ]
    }
   ],
   "source": [
    "# 5. 문자형이 범위인 경우\n",
    "\n",
    "for i in 'i am a boy':\n",
    "   print(i)"
   ]
  },
  {
   "attachments": {
    "image.png": {
     "image/png": "[encoded data removed]"
    }
   },
   "cell_type": "markdown",
   "metadata": {},
   "source": [
    "## 활용 문제\n",
    "\n",
    "![image.png](attachment:image.png)"
   ]
  },
  {
   "cell_type": "code",
   "execution_count": 32,
   "metadata": {},
   "outputs": [
    {
     "name": "stdout",
     "output_type": "stream",
     "text": [
      "가로의 숫자를 입력하세요5\n",
      "세로의 숫자를 입력하세요6\n",
      "★★★★\n",
      "★★★★\n",
      "★★★★\n",
      "★★★★\n",
      "★★★★\n",
      "★★★★\n"
     ]
    }
   ],
   "source": [
    "a = int(input('가로의 숫자를 입력하세요'))\n",
    "b = int(input('세로의 숫자를 입력하세요'))\n",
    "c = 0\n",
    "\n",
    "for i in range(1,b+1):\n",
    "    c = (a-1)\n",
    "    print(c*'★')\n",
    "    "
   ]
  },
  {
   "attachments": {
    "image.png": {
     "image/png": "[encoded data removed]"
    }
   },
   "cell_type": "markdown",
   "metadata": {},
   "source": [
    "![image.png](attachment:image.png)"
   ]
  },
  {
   "cell_type": "code",
   "execution_count": 33,
   "metadata": {},
   "outputs": [
    {
     "name": "stdout",
     "output_type": "stream",
     "text": [
      "가로의 숫자를 입력하세요7\n",
      "세로의 숫자를 입력하세요7\n",
      "★★★★★★\n",
      "★★★★★\n",
      "★★★★\n",
      "★★★\n",
      "★★\n",
      "★\n",
      "\n"
     ]
    }
   ],
   "source": [
    "a = int(input('가로의 숫자를 입력하세요'))\n",
    "b = int(input('세로의 숫자를 입력하세요'))\n",
    "c = 0\n",
    "\n",
    "for i in range(1,b+1):\n",
    "    c = a-i\n",
    "    print(c*'★')"
   ]
  },
  {
   "attachments": {
    "image.png": {
     "image/png": "[encoded data removed]"
    }
   },
   "cell_type": "markdown",
   "metadata": {},
   "source": [
    "![image.png](attachment:image.png)"
   ]
  },
  {
   "cell_type": "code",
   "execution_count": 36,
   "metadata": {},
   "outputs": [
    {
     "name": "stdout",
     "output_type": "stream",
     "text": [
      "가로의 숫자를 입력하세요6\n",
      "세로의 숫자를 입력하세요6\n",
      "     ★\n",
      "    ★★\n",
      "   ★★★\n",
      "  ★★★★\n",
      " ★★★★★\n",
      "★★★★★★\n"
     ]
    }
   ],
   "source": [
    "a = int(input('가로의 숫자를 입력하세요'))\n",
    "b = int(input('세로의 숫자를 입력하세요'))\n",
    "c = 0\n",
    "\n",
    "for i in range(1,b+1):\n",
    "    c = a - i\n",
    "    print( c*' ' + i*'★')"
   ]
  },
  {
   "attachments": {
    "image.png": {
     "image/png": "[encoded data removed]"
    }
   },
   "cell_type": "markdown",
   "metadata": {},
   "source": [
    "# 구구단 전체를 출력하세요\n",
    "\n",
    "![image.png](attachment:image.png)"
   ]
  },
  {
   "cell_type": "markdown",
   "metadata": {},
   "source": [
    "## for 문 개념 배우기(for ~ continue ~ break)\n",
    "\n",
    "for 반복문 내에서 continue를 만나면 그 다음 반복 실행으로 넘어가며,\n",
    "break 를 만나면 for 반복문을 완전히 벗어납니다.\n",
    "\n",
    "예제 1\n",
    "\n",
    "for 변수 in 범위:\n",
    "#....\n",
    "    continue # 다음반복문 실행  \n",
    "#....\n",
    "    break # for 반목문 탈출"
   ]
  },
  {
   "cell_type": "markdown",
   "metadata": {},
   "source": [
    "## 숫자 1번부터 10번까지 출력하는데 중간에 5는 출력되지 않게 하시오!"
   ]
  },
  {
   "cell_type": "code",
   "execution_count": 37,
   "metadata": {},
   "outputs": [
    {
     "name": "stdout",
     "output_type": "stream",
     "text": [
      "1\n",
      "2\n",
      "3\n",
      "4\n",
      "6\n",
      "7\n",
      "8\n",
      "9\n",
      "10\n"
     ]
    }
   ],
   "source": [
    "for x in range(1,11):\n",
    "    if x == 5:\n",
    "        continue  \n",
    "    print(x)"
   ]
  },
  {
   "cell_type": "markdown",
   "metadata": {},
   "source": [
    "위와 같이 5만 빠지게 된다."
   ]
  },
  {
   "cell_type": "markdown",
   "metadata": {},
   "source": [
    "## 문제 0부터 10까지 출력하는데 홀수는 출력하지 마시오\n"
   ]
  },
  {
   "cell_type": "code",
   "execution_count": 39,
   "metadata": {},
   "outputs": [
    {
     "name": "stdout",
     "output_type": "stream",
     "text": [
      "0\n",
      "2\n",
      "4\n",
      "6\n",
      "8\n",
      "10\n"
     ]
    }
   ],
   "source": [
    "\n",
    "for x in range(0,11):\n",
    "    if x%2 == 1:\n",
    "        continue  \n",
    "    print(x)"
   ]
  },
  {
   "cell_type": "markdown",
   "metadata": {},
   "source": [
    "# for 문에서 사용하느 break 문\n",
    "\n",
    "' 루프문을 중단시키는 역활을 하는 키워드'\n",
    "\n",
    "예제 \n",
    "scope = [1,2,3,4,5,6]  \n",
    "for i in scope:  \n",
    "    print(i)  \n",
    "    if i == 5:   \n",
    "        break  -----> 루프종료   \n"
   ]
  },
  {
   "cell_type": "markdown",
   "metadata": {},
   "source": [
    "## 아래와 같이 2개의 숫자를 물어보게 하고 두개 숫자의 최대 공약수를 출력하시오\n",
    "\n",
    "첫번째 숫자를 입력하세요  16    \n",
    "두번째 숫자를 입력하세요  24"
   ]
  },
  {
   "cell_type": "code",
   "execution_count": 49,
   "metadata": {},
   "outputs": [
    {
     "name": "stdout",
     "output_type": "stream",
     "text": [
      "첫번째 숫자를 입력하세요24\n",
      "두번째 숫자를 입력하세요16\n",
      "8\n"
     ]
    }
   ],
   "source": [
    "a = int(input('첫번째 숫자를 입력하세요'))\n",
    "b = int(input('두번째 숫자를 입력하세요'))\n",
    "\n",
    "for i in range(a-1,0,-1):\n",
    "    if a%i == 0 and b%i == 0:\n",
    "        break\n",
    "print(i)"
   ]
  },
  {
   "cell_type": "markdown",
   "metadata": {},
   "source": [
    "# for문 개념 배우기 (for ~ else)\n",
    "\n",
    "for 반복문을 완전히 수행했을 때만 실행하는 부분을 정의하려면     \n",
    "for ~ else 문을 사용해야 합니다.         \n",
    "for ~ else 에서 else 뒤에서 실행코드는 for 반복문을 성공적으로 수행해야지만 실행된다             \n",
    "\n",
    "예제:        \n",
    "for i in range(1,11)             \n",
    "    print (i)         # 반복 실행 코드             \n",
    "else:           \n",
    "    print('Perfect') # for 문이 모두 실행되었을때 실행할 코드           \n",
    "    \n",
    "- for 반복문이 break 에 의해 중단됨이 없이 정상적으로 모두 실행되어야만\n",
    "  특정 코드를 실행하게 할 경우 for ~else를 사용한다!"
   ]
  },
  {
   "cell_type": "code",
   "execution_count": 52,
   "metadata": {},
   "outputs": [
    {
     "name": "stdout",
     "output_type": "stream",
     "text": [
      "1\n",
      "2\n",
      "3\n",
      "4\n",
      "5\n",
      "6\n",
      "7\n",
      "8\n",
      "9\n",
      "10\n",
      "prefect\n"
     ]
    }
   ],
   "source": [
    "for i in range(1,11):\n",
    "    print(i)\n",
    "else :\n",
    "    print('prefect')"
   ]
  }
 ],
 "metadata": {
  "kernelspec": {
   "display_name": "Python 3",
   "language": "python",
   "name": "python3"
  },
  "language_info": {
   "codemirror_mode": {
    "name": "ipython",
    "version": 3
   },
   "file_extension": ".py",
   "mimetype": "text/x-python",
   "name": "python",
   "nbconvert_exporter": "python",
   "pygments_lexer": "ipython3",
   "version": "3.7.4"
  }
 },
 "nbformat": 4,
 "nbformat_minor": 2
}
